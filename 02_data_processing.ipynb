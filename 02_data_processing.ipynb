{
 "cells": [
  {
   "cell_type": "code",
   "execution_count": 1,
   "metadata": {
    "collapsed": true
   },
   "outputs": [],
   "source": [
    "import json\n",
    "from pymongo import MongoClient\n",
    "from bson.son import SON\n",
    "from pprint import pprint\n",
    "from random import randint\n",
    "import os"
   ]
  },
  {
   "cell_type": "code",
   "execution_count": 2,
   "metadata": {
    "collapsed": true
   },
   "outputs": [],
   "source": [
    "def merge_two_dicts(x,y):\n",
    "    '''return the merged dictionary'''\n",
    "    z = x.copy()\n",
    "    z.update(y)\n",
    "    return z"
   ]
  },
  {
   "cell_type": "code",
   "execution_count": 3,
   "metadata": {
    "collapsed": false
   },
   "outputs": [],
   "source": [
    "# Connect to MongoDB\n",
    "client = MongoClient('mongodb://localhost:27017/')\n",
    "# Set db object point to careers database\n",
    "db = client.careers\n",
    "\n",
    "career_paths = ['data scientist_jobs','data analyst_jobs','data engineer_jobs','machine learning engineer_jobs']\n",
    "# Looping json files and insert documents into careers database posts collection\n",
    "i = 0\n",
    "if False:\n",
    "    for career in career_paths:\n",
    "    \n",
    "        with open(career) as f:\n",
    "        \n",
    "            for line in f:\n",
    "            # Every line contains 16 posts of jobs\n",
    "                for post in json.loads(line):\n",
    "                # Insert job object to MongoDB via insert_one\n",
    "                    result = db.posts.insert_one(merge_two_dicts(post,{'search':career[:-5]}))\n",
    "                \n",
    "                    i+=1\n",
    "                \n",
    "    print \"{} jobs saved to database\".format(str(i))\n"
   ]
  },
  {
   "cell_type": "code",
   "execution_count": 4,
   "metadata": {
    "collapsed": false
   },
   "outputs": [
    {
     "name": "stdout",
     "output_type": "stream",
     "text": [
      "There are 3865 companies hiring data practitioners\n"
     ]
    }
   ],
   "source": [
    "# Query how many companies in the database hiring data practitioners\n",
    "num_companies = len(db.posts.distinct('company'))\n",
    "print 'There are %d companies hiring data practitioners' % num_companies"
   ]
  },
  {
   "cell_type": "code",
   "execution_count": 5,
   "metadata": {
    "collapsed": false
   },
   "outputs": [
    {
     "name": "stdout",
     "output_type": "stream",
     "text": [
      "There are 649 companies advertise\n"
     ]
    }
   ],
   "source": [
    "# Query how many companies in the database are the sponsor of Indeed\n",
    "sponsors = set()\n",
    "sp = db.posts.find({'sponsor':'Y'},{'company':1,'_id':0})\n",
    "for firm in sp:\n",
    "    sponsors.add(firm['company'])\n",
    "    \n",
    "num_sponsors = len(sponsors)\n",
    "print 'There are %d companies advertise' % num_sponsors"
   ]
  },
  {
   "cell_type": "code",
   "execution_count": 6,
   "metadata": {
    "collapsed": false
   },
   "outputs": [
    {
     "name": "stdout",
     "output_type": "stream",
     "text": [
      "706\n"
     ]
    }
   ],
   "source": [
    "pipeline = [\n",
    "    {\"$group\": {\n",
    "        \"_id\": \"$job ID\",\n",
    "        \"location\": {\"$first\": \"$location\"}\n",
    "        }\n",
    "    },\n",
    "    {\"$group\": {\n",
    "        \"_id\": \"$location\",\n",
    "        \"total_jobs\":{\"$sum\": 1}\n",
    "        }\n",
    "    }\n",
    "]\n",
    "pprint(len(list(db.posts.aggregate(pipeline))))"
   ]
  },
  {
   "cell_type": "code",
   "execution_count": 17,
   "metadata": {
    "collapsed": true
   },
   "outputs": [],
   "source": [
    "# Create pipeline to query distinctive jobs by job ID\n",
    "pipeline = [\n",
    "    {\"$group\": {\n",
    "        \"_id\": \"$job ID\",\n",
    "        \"jd\": {\"$first\": \"$jd\"}\n",
    "        }\n",
    "    },\n",
    "    {\"$project\":{\n",
    "        \"jd\":1,\n",
    "        \"job ID\": \"$_id\",\n",
    "        \"_id\":0\n",
    "    }\n",
    "    }\n",
    "]"
   ]
  },
  {
   "cell_type": "code",
   "execution_count": 18,
   "metadata": {
    "collapsed": false
   },
   "outputs": [],
   "source": [
    "def append_record(path,record):\n",
    "    with open(path, 'a') as f:\n",
    "        json.dump(record, f)\n",
    "        f.write(os.linesep)"
   ]
  },
  {
   "cell_type": "code",
   "execution_count": 19,
   "metadata": {
    "collapsed": false
   },
   "outputs": [
    {
     "name": "stdout",
     "output_type": "stream",
     "text": [
      "11920 docs has been saved\n"
     ]
    }
   ],
   "source": [
    "path = 'raw_data'\n",
    "i = 0\n",
    "for doc in db.posts.aggregate(pipeline):\n",
    "    append_record(path,doc)\n",
    "    i+=1\n",
    "print \"%d docs has been saved\" %i"
   ]
  },
  {
   "cell_type": "code",
   "execution_count": 20,
   "metadata": {
    "collapsed": false
   },
   "outputs": [],
   "source": [
    "with open(path) as f:\n",
    "    my_list = [json.loads(line) for line in f]      "
   ]
  },
  {
   "cell_type": "code",
   "execution_count": 26,
   "metadata": {
    "collapsed": false
   },
   "outputs": [],
   "source": [
    "pipeline2 = [\n",
    "    {\"$group\": {\n",
    "        \"_id\": \"$job ID\",\n",
    "        \"company\": {\"$first\": \"$company\"}\n",
    "        }\n",
    "    },\n",
    "    {\"$project\":{\n",
    "        \"job ID\": \"$_id\",\n",
    "        \"company\": 1,\n",
    "        \"_id\":0\n",
    "        }\n",
    "    }\n",
    "]"
   ]
  },
  {
   "cell_type": "code",
   "execution_count": 27,
   "metadata": {
    "collapsed": false
   },
   "outputs": [
    {
     "name": "stdout",
     "output_type": "stream",
     "text": [
      "11920 docs has been saved\n"
     ]
    }
   ],
   "source": [
    "path2 = 'companies'\n",
    "i = 0\n",
    "for doc in db.posts.aggregate(pipeline2):\n",
    "    append_record(path2,doc)\n",
    "    i+=1\n",
    "print \"%d docs has been saved\" %i"
   ]
  },
  {
   "cell_type": "code",
   "execution_count": 40,
   "metadata": {
    "collapsed": true
   },
   "outputs": [],
   "source": [
    "# Mapreduce\n",
    "from bson.code import Code\n",
    "mapper = Code(\"function () {\"\n",
    "              \"  if(this.location.indexOf('CA') > -1) {\"\n",
    "              \"    emit('Bay Area', 1);\"\n",
    "              \"   }\"\n",
    "              \"  else if(this.location.indexOf('WA') > -1) {\"\n",
    "              \"    emit('Seattle', 1);\"\n",
    "              \"   }\"\n",
    "              \"  else if(this.location.indexOf('MA') > -1) {\"\n",
    "              \"    emit('Boston', 1);\"\n",
    "              \"   }\"\n",
    "              \"  else if(this.location.indexOf('NY') > -1) {\"\n",
    "              \"    emit('New York', 1);\"\n",
    "              \"   }\"\n",
    "              \"}\")"
   ]
  },
  {
   "cell_type": "code",
   "execution_count": 41,
   "metadata": {
    "collapsed": true
   },
   "outputs": [],
   "source": [
    "reducer = Code(\"function (key, values) {\"\n",
    "               \" var total = 0;\"\n",
    "               \" for (var i = 0; i < values.length; i++) {\"\n",
    "               \"   total += values[i];\"\n",
    "               \" }\"\n",
    "               \" return total;\"\n",
    "               \"}\")"
   ]
  },
  {
   "cell_type": "code",
   "execution_count": 42,
   "metadata": {
    "collapsed": false
   },
   "outputs": [
    {
     "name": "stdout",
     "output_type": "stream",
     "text": [
      "{u'_id': u'Bay Area', u'value': 11636.0}\n",
      "{u'_id': u'Boston', u'value': 5129.0}\n",
      "{u'_id': u'New York', u'value': 5565.0}\n",
      "{u'_id': u'Seattle', u'value': 5677.0}\n"
     ]
    }
   ],
   "source": [
    "result = db.posts.map_reduce(mapper,reducer,\"myresults\")\n",
    "for doc in result.find():\n",
    "    print doc"
   ]
  }
 ],
 "metadata": {
  "kernelspec": {
   "display_name": "Python 2",
   "language": "python",
   "name": "python2"
  },
  "language_info": {
   "codemirror_mode": {
    "name": "ipython",
    "version": 2
   },
   "file_extension": ".py",
   "mimetype": "text/x-python",
   "name": "python",
   "nbconvert_exporter": "python",
   "pygments_lexer": "ipython2",
   "version": "2.7.13"
  }
 },
 "nbformat": 4,
 "nbformat_minor": 2
}
